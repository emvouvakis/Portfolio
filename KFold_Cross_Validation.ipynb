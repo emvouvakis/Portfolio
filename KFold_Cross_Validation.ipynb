{
 "cells": [
  {
   "cell_type": "code",
   "execution_count": 1,
   "metadata": {},
   "outputs": [],
   "source": [
    "#Import Libraries\n",
    "import pandas as pd\n",
    "import numpy as np\n",
    "import matplotlib.pyplot as plt\n",
    "from keras.models import Sequential\n",
    "from keras.layers import Dense\n",
    "from keras.callbacks import EarlyStopping, ModelCheckpoint\n",
    "import os\n",
    "from sklearn.model_selection import KFold"
   ]
  },
  {
   "cell_type": "code",
   "execution_count": 2,
   "metadata": {},
   "outputs": [],
   "source": [
    "#Get Data from:\n",
    "# https://drive.google.com/uc?export=download&id=1Dh4YNn9Al_DQ_8nLQ_A7Za2Xw_SqmYB8\n",
    "#Read Data\n",
    "standardized_df=pd.read_excel('Standardized_df.xlsx')\n",
    "fhr=pd.read_excel('FHR.xlsx')"
   ]
  },
  {
   "cell_type": "code",
   "execution_count": 3,
   "metadata": {},
   "outputs": [
    {
     "data": {
      "text/plain": [
       "array([8, 5, 5, ..., 4, 4, 0], dtype=int64)"
      ]
     },
     "execution_count": 3,
     "metadata": {},
     "output_type": "execute_result"
    }
   ],
   "source": [
    "from sklearn import preprocessing\n",
    "label = preprocessing.LabelEncoder()\n",
    "y1=label.fit(np.ravel(fhr)).transform(np.ravel(fhr))\n",
    "y1"
   ]
  },
  {
   "cell_type": "code",
   "execution_count": 4,
   "metadata": {},
   "outputs": [],
   "source": [
    "#Transform Data\n",
    "from sklearn.preprocessing import LabelBinarizer\n",
    "lb = LabelBinarizer()\n",
    "lb.fit(y1)\n",
    "y = lb.transform(y1)\n",
    "x=standardized_df.to_numpy()"
   ]
  },
  {
   "cell_type": "code",
   "execution_count": 20,
   "metadata": {},
   "outputs": [],
   "source": [
    "def kf(neurons,batch):\n",
    "  global accuracy, loss,data_yhat\n",
    "  kfold = KFold(n_splits=5, shuffle=False)\n",
    "  fold_no = 1\n",
    "  accuracy=[]\n",
    "  loss=[]\n",
    "  predicted_classes=[]\n",
    "  data_y=[]\n",
    "  data_yhat =[]\n",
    "\n",
    "  for train, test in kfold.split(x,y):\n",
    "    \n",
    "    model = Sequential()\n",
    "    model.add(Dense(neurons, activation='relu'))\n",
    "    model.add(Dense(neurons-10, activation='relu'))\n",
    "    #model.add(Dense(neurons-10, activation='relu'))\n",
    "    model.add(Dense(10, activation='softmax'))\n",
    "    model.compile(loss='categorical_crossentropy', optimizer='adam', metrics=['accuracy'])\n",
    "\n",
    "    #Get Data\n",
    "    train_x, test_x = x[train], x[test]\n",
    "    train_y, test_y = y[train], y[test]\n",
    "\n",
    "\n",
    "    save_model_name = os.path.join('./models/model_classifier.h5')\n",
    "    saveBest = ModelCheckpoint(save_model_name, monitor='val_loss', save_best_only=True)\n",
    "    earlyStopping = EarlyStopping(monitor='val_loss', min_delta=0.0001, patience=3, verbose=0, mode='auto')\n",
    "\n",
    "    # Fit data to model and predict\n",
    "    model.fit(train_x, train_y, batch_size=batch,epochs=25, verbose=0, validation_split=0.10, callbacks=[saveBest,earlyStopping])\n",
    "    predicted_classes=model.predict(test_x, batch_size=batch)\n",
    "\n",
    "    # Generate generalization metrics\n",
    "    scores = model.evaluate(test_x, test_y, verbose=0)\n",
    "    # store\n",
    "    data_y.extend(test_y.tolist())\n",
    "    data_yhat.extend(predicted_classes)\n",
    "    \n",
    "    accuracy.append(round(scores[1]*100,2))\n",
    "    loss.append(round(scores[0]*100,2))\n",
    "\n",
    "    # Increase fold number\n",
    "    fold_no += 1"
   ]
  },
  {
   "cell_type": "code",
   "execution_count": 101,
   "metadata": {},
   "outputs": [
    {
     "data": {
      "text/html": [
       "<div>\n",
       "<style scoped>\n",
       "    .dataframe tbody tr th:only-of-type {\n",
       "        vertical-align: middle;\n",
       "    }\n",
       "\n",
       "    .dataframe tbody tr th {\n",
       "        vertical-align: top;\n",
       "    }\n",
       "\n",
       "    .dataframe thead th {\n",
       "        text-align: right;\n",
       "    }\n",
       "</style>\n",
       "<table border=\"1\" class=\"dataframe\">\n",
       "  <thead>\n",
       "    <tr style=\"text-align: right;\">\n",
       "      <th></th>\n",
       "      <th>Accuracy</th>\n",
       "      <th>Loss</th>\n",
       "    </tr>\n",
       "    <tr>\n",
       "      <th>Neurons</th>\n",
       "      <th></th>\n",
       "      <th></th>\n",
       "    </tr>\n",
       "  </thead>\n",
       "  <tbody>\n",
       "    <tr>\n",
       "      <th>20</th>\n",
       "      <td>70.79</td>\n",
       "      <td>84.50</td>\n",
       "    </tr>\n",
       "    <tr>\n",
       "      <th>30</th>\n",
       "      <td>70.37</td>\n",
       "      <td>82.09</td>\n",
       "    </tr>\n",
       "    <tr>\n",
       "      <th>40</th>\n",
       "      <td>72.34</td>\n",
       "      <td>77.33</td>\n",
       "    </tr>\n",
       "    <tr>\n",
       "      <th>50</th>\n",
       "      <td>67.97</td>\n",
       "      <td>95.25</td>\n",
       "    </tr>\n",
       "    <tr>\n",
       "      <th>60</th>\n",
       "      <td>71.40</td>\n",
       "      <td>93.88</td>\n",
       "    </tr>\n",
       "    <tr>\n",
       "      <th>70</th>\n",
       "      <td>72.86</td>\n",
       "      <td>88.02</td>\n",
       "    </tr>\n",
       "    <tr>\n",
       "      <th>80</th>\n",
       "      <td>72.06</td>\n",
       "      <td>95.05</td>\n",
       "    </tr>\n",
       "    <tr>\n",
       "      <th>90</th>\n",
       "      <td>71.36</td>\n",
       "      <td>88.17</td>\n",
       "    </tr>\n",
       "    <tr>\n",
       "      <th>100</th>\n",
       "      <td>72.11</td>\n",
       "      <td>81.69</td>\n",
       "    </tr>\n",
       "    <tr>\n",
       "      <th>110</th>\n",
       "      <td>70.09</td>\n",
       "      <td>106.11</td>\n",
       "    </tr>\n",
       "    <tr>\n",
       "      <th>120</th>\n",
       "      <td>71.36</td>\n",
       "      <td>93.67</td>\n",
       "    </tr>\n",
       "  </tbody>\n",
       "</table>\n",
       "</div>"
      ],
      "text/plain": [
       "         Accuracy    Loss\n",
       "Neurons                  \n",
       "20          70.79   84.50\n",
       "30          70.37   82.09\n",
       "40          72.34   77.33\n",
       "50          67.97   95.25\n",
       "60          71.40   93.88\n",
       "70          72.86   88.02\n",
       "80          72.06   95.05\n",
       "90          71.36   88.17\n",
       "100         72.11   81.69\n",
       "110         70.09  106.11\n",
       "120         71.36   93.67"
      ]
     },
     "execution_count": 101,
     "metadata": {},
     "output_type": "execute_result"
    }
   ],
   "source": [
    "#Find best number of neurons\n",
    "all_acc=[]\n",
    "all_loss=[]\n",
    "neurons=[20,30,40,50,60,70,80,90,100,110,120]\n",
    "for n in range(len(neurons)):\n",
    "    kf(neurons[n],1)\n",
    "    all_acc.append(round(mean(accuracy),2))\n",
    "    all_loss.append(round(mean(loss),2))\n",
    "all_stats=pd.DataFrame()\n",
    "all_stats['Accuracy']=all_acc\n",
    "all_stats['Loss']=all_loss\n",
    "all_stats['Neurons']=neurons\n",
    "all_stats.set_index('Neurons', inplace=True)\n",
    "all_stats.to_excel('All_stats.xlsx', index=True, header=True)\n",
    "all_stats"
   ]
  },
  {
   "cell_type": "code",
   "execution_count": 156,
   "metadata": {},
   "outputs": [
    {
     "data": {
      "image/png": "[encoded data removed]",
      "text/plain": [
       "<Figure size 720x576 with 1 Axes>"
      ]
     },
     "metadata": {},
     "output_type": "display_data"
    }
   ],
   "source": [
    "plt.figure(figsize=(10,8))\n",
    "plt.plot(all_stats['Accuracy'],linewidth=2.5, label='Accuracy')\n",
    "plt.plot(all_stats['Loss'],linewidth=2.5,label='Loss')\n",
    "plt.axvline(x = 40, linewidth=2.5, color = 'k', label = 'Best combination')\n",
    "\n",
    "plt.xlabel('Number of Neurons', fontweight='bold',c='black')\n",
    "\n",
    "plt.style.use('ggplot')\n",
    "plt.legend(loc='center right')\n",
    "plt.legend(bbox_to_anchor=(1, 0.5), loc=6, borderaxespad=0.6)\n",
    "\n",
    "plt.title(\"Accuracy,Loss over Number of Neurons\",fontweight='bold',c='black')\n",
    "\n",
    "plt.savefig(\"Neurons\", dpi=300, bbox_inches='tight')\n",
    "plt.show()"
   ]
  },
  {
   "cell_type": "code",
   "execution_count": 17,
   "metadata": {},
   "outputs": [],
   "source": [
    "#Kfold for picked number of neurons\n",
    "kf(40,1)\n",
    "from numpy import mean\n",
    "acc=list(map(\"{}%\".format, accuracy))\n",
    "l=list(map(\"{}%\".format, loss))"
   ]
  },
  {
   "cell_type": "code",
   "execution_count": 18,
   "metadata": {},
   "outputs": [
    {
     "name": "stdout",
     "output_type": "stream",
     "text": [
      "Fold_id        Accuracy per fold        Loss per fold        \n",
      "   1                 66.67%                 80.83%           \n",
      "   2                 68.0%                  83.0%            \n",
      "   3                 79.06%                 55.57%           \n",
      "   4                 72.94%                 78.26%           \n",
      "   5                 62.59%                 149.1%           \n",
      "~~~~~~~~~~~~~~~~~~~~~~~~~~~~~~~~~~~~~~~~~~~~~~~~~~~~~~\n",
      "Accuracy         Loss         \n",
      " 69.85%         89.35%        \n"
     ]
    }
   ],
   "source": [
    "from prettytable import PrettyTable\n",
    "from prettytable import PLAIN_COLUMNS \n",
    "t1=PrettyTable()\n",
    "t1.set_style(PLAIN_COLUMNS)\n",
    "\n",
    "t1.add_column(\"Fold_id\", list(range(1,6)))\n",
    "t1.add_column(\"Accuracy per fold\", acc)\n",
    "t1.add_column(\"Loss per fold\", l)\n",
    "print(t1)\n",
    "print(\"~~~~~~~~~~~~~~~~~~~~~~~~~~~~~~~~~~~~~~~~~~~~~~~~~~~~~~\")\n",
    "\n",
    "t2=PrettyTable()\n",
    "t2.set_style(PLAIN_COLUMNS)\n",
    "t2.field_names=[\"Accuracy\",\"Loss\"]\n",
    "t2.add_row((str(round(mean(accuracy),2))+\"%\", str(round(mean(loss),2))+\"%\"))\n",
    "print(t2)"
   ]
  },
  {
   "cell_type": "code",
   "execution_count": 8,
   "metadata": {},
   "outputs": [],
   "source": [
    "pred_class=np.argmax(data_yhat, axis=1)"
   ]
  },
  {
   "cell_type": "code",
   "execution_count": 12,
   "metadata": {},
   "outputs": [
    {
     "data": {
      "text/html": [
       "<div>\n",
       "<style scoped>\n",
       "    .dataframe tbody tr th:only-of-type {\n",
       "        vertical-align: middle;\n",
       "    }\n",
       "\n",
       "    .dataframe tbody tr th {\n",
       "        vertical-align: top;\n",
       "    }\n",
       "\n",
       "    .dataframe thead th {\n",
       "        text-align: right;\n",
       "    }\n",
       "</style>\n",
       "<table border=\"1\" class=\"dataframe\">\n",
       "  <thead>\n",
       "    <tr style=\"text-align: right;\">\n",
       "      <th></th>\n",
       "      <th>precision</th>\n",
       "      <th>recall</th>\n",
       "      <th>f1-score</th>\n",
       "      <th>support</th>\n",
       "    </tr>\n",
       "  </thead>\n",
       "  <tbody>\n",
       "    <tr>\n",
       "      <th>0</th>\n",
       "      <td>0.671429</td>\n",
       "      <td>0.611979</td>\n",
       "      <td>0.640327</td>\n",
       "      <td>384.000000</td>\n",
       "    </tr>\n",
       "    <tr>\n",
       "      <th>1</th>\n",
       "      <td>0.855903</td>\n",
       "      <td>0.851468</td>\n",
       "      <td>0.853680</td>\n",
       "      <td>579.000000</td>\n",
       "    </tr>\n",
       "    <tr>\n",
       "      <th>2</th>\n",
       "      <td>0.600000</td>\n",
       "      <td>0.396226</td>\n",
       "      <td>0.477273</td>\n",
       "      <td>53.000000</td>\n",
       "    </tr>\n",
       "    <tr>\n",
       "      <th>3</th>\n",
       "      <td>0.643836</td>\n",
       "      <td>0.580247</td>\n",
       "      <td>0.610390</td>\n",
       "      <td>81.000000</td>\n",
       "    </tr>\n",
       "    <tr>\n",
       "      <th>4</th>\n",
       "      <td>0.472727</td>\n",
       "      <td>0.361111</td>\n",
       "      <td>0.409449</td>\n",
       "      <td>72.000000</td>\n",
       "    </tr>\n",
       "    <tr>\n",
       "      <th>5</th>\n",
       "      <td>0.875433</td>\n",
       "      <td>0.762048</td>\n",
       "      <td>0.814815</td>\n",
       "      <td>332.000000</td>\n",
       "    </tr>\n",
       "    <tr>\n",
       "      <th>6</th>\n",
       "      <td>0.712025</td>\n",
       "      <td>0.892857</td>\n",
       "      <td>0.792254</td>\n",
       "      <td>252.000000</td>\n",
       "    </tr>\n",
       "    <tr>\n",
       "      <th>7</th>\n",
       "      <td>0.864198</td>\n",
       "      <td>0.654206</td>\n",
       "      <td>0.744681</td>\n",
       "      <td>107.000000</td>\n",
       "    </tr>\n",
       "    <tr>\n",
       "      <th>8</th>\n",
       "      <td>0.546667</td>\n",
       "      <td>0.594203</td>\n",
       "      <td>0.569444</td>\n",
       "      <td>69.000000</td>\n",
       "    </tr>\n",
       "    <tr>\n",
       "      <th>9</th>\n",
       "      <td>0.561594</td>\n",
       "      <td>0.786802</td>\n",
       "      <td>0.655391</td>\n",
       "      <td>197.000000</td>\n",
       "    </tr>\n",
       "    <tr>\n",
       "      <th>accuracy</th>\n",
       "      <td>0.736595</td>\n",
       "      <td>0.736595</td>\n",
       "      <td>0.736595</td>\n",
       "      <td>0.736595</td>\n",
       "    </tr>\n",
       "    <tr>\n",
       "      <th>macro avg</th>\n",
       "      <td>0.680381</td>\n",
       "      <td>0.649115</td>\n",
       "      <td>0.656770</td>\n",
       "      <td>2126.000000</td>\n",
       "    </tr>\n",
       "    <tr>\n",
       "      <th>weighted avg</th>\n",
       "      <td>0.744252</td>\n",
       "      <td>0.736595</td>\n",
       "      <td>0.735011</td>\n",
       "      <td>2126.000000</td>\n",
       "    </tr>\n",
       "  </tbody>\n",
       "</table>\n",
       "</div>"
      ],
      "text/plain": [
       "              precision    recall  f1-score      support\n",
       "0              0.671429  0.611979  0.640327   384.000000\n",
       "1              0.855903  0.851468  0.853680   579.000000\n",
       "2              0.600000  0.396226  0.477273    53.000000\n",
       "3              0.643836  0.580247  0.610390    81.000000\n",
       "4              0.472727  0.361111  0.409449    72.000000\n",
       "5              0.875433  0.762048  0.814815   332.000000\n",
       "6              0.712025  0.892857  0.792254   252.000000\n",
       "7              0.864198  0.654206  0.744681   107.000000\n",
       "8              0.546667  0.594203  0.569444    69.000000\n",
       "9              0.561594  0.786802  0.655391   197.000000\n",
       "accuracy       0.736595  0.736595  0.736595     0.736595\n",
       "macro avg      0.680381  0.649115  0.656770  2126.000000\n",
       "weighted avg   0.744252  0.736595  0.735011  2126.000000"
      ]
     },
     "execution_count": 12,
     "metadata": {},
     "output_type": "execute_result"
    }
   ],
   "source": [
    "from sklearn.metrics import classification_report\n",
    "dict_report=classification_report(y1,pred_class, output_dict=True)\n",
    "report=pd.DataFrame(dict_report).transpose()\n",
    "report.to_excel(\"Classification_Report.xlsx\")\n",
    "report"
   ]
  },
  {
   "cell_type": "code",
   "execution_count": 19,
   "metadata": {},
   "outputs": [
    {
     "data": {
      "image/png": "[encoded data removed]",
      "text/plain": [
       "<Figure size 648x504 with 1 Axes>"
      ]
     },
     "metadata": {
      "needs_background": "light"
     },
     "output_type": "display_data"
    }
   ],
   "source": [
    "import matplotlib.pyplot as plt\n",
    "from sklearn.metrics import confusion_matrix\n",
    "import seaborn as sns\n",
    "cm = confusion_matrix(y1, pred_class)\n",
    "\n",
    "\n",
    "plt.figure(figsize=(9,7))\n",
    "sns.heatmap(cm.T, annot=True, square=False , cbar=False, fmt='d', \n",
    "            yticklabels=np.unique(pred_class),\n",
    "            xticklabels=np.unique(y1))\n",
    "\n",
    "plt.ylabel(\"Predicted Label\", fontweight='bold',c='black')\n",
    "plt.xlabel(\"Truth Label\", fontweight='bold',c='black')\n",
    "plt.title(\"Confusion Matrix\", fontweight='bold',c='black')\n",
    "plt.savefig(\"CM_model\", dpi=300, bbox_inches='tight')\n",
    "plt.show()"
   ]
  },
  {
   "cell_type": "code",
   "execution_count": null,
   "metadata": {},
   "outputs": [],
   "source": []
  }
 ],
 "metadata": {
  "interpreter": {
   "hash": "f3c882609e2b6caaa48daa9d00c987b6b9ad19c2cab3450668145c8a09d0c5ad"
  },
  "kernelspec": {
   "display_name": "Python 3.7.0 64-bit",
   "language": "python",
   "name": "python3"
  },
  "language_info": {
   "codemirror_mode": {
    "name": "ipython",
    "version": 3
   },
   "file_extension": ".py",
   "mimetype": "text/x-python",
   "name": "python",
   "nbconvert_exporter": "python",
   "pygments_lexer": "ipython3",
   "version": "3.7.0"
  },
  "orig_nbformat": 4
 },
 "nbformat": 4,
 "nbformat_minor": 2
}
